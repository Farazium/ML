{
  "metadata": {
    "kernelspec": {
      "language": "python",
      "display_name": "Python 3",
      "name": "python3"
    },
    "language_info": {
      "name": "python",
      "version": "3.10.12",
      "mimetype": "text/x-python",
      "codemirror_mode": {
        "name": "ipython",
        "version": 3
      },
      "pygments_lexer": "ipython3",
      "nbconvert_exporter": "python",
      "file_extension": ".py"
    },
    "kaggle": {
      "accelerator": "none",
      "dataSources": [
        {
          "sourceId": 6587346,
          "sourceType": "datasetVersion",
          "datasetId": 3802510
        }
      ],
      "dockerImageVersionId": 30579,
      "isInternetEnabled": false,
      "language": "python",
      "sourceType": "notebook",
      "isGpuEnabled": false
    },
    "colab": {
      "provenance": []
    }
  },
  "nbformat_minor": 0,
  "nbformat": 4,
  "cells": [
    {
      "cell_type": "markdown",
      "source": [
        "<h1>Importing the Libraries</h1>"
      ],
      "metadata": {
        "id": "v9Ut6e6YR1qk"
      }
    },
    {
      "cell_type": "code",
      "source": [
        "import numpy as np\n",
        "import pandas as pd\n",
        "import matplotlib.pyplot as plt"
      ],
      "metadata": {
        "id": "zVKuYY1VG0ci",
        "execution": {
          "iopub.status.busy": "2023-11-14T12:07:01.915695Z",
          "iopub.execute_input": "2023-11-14T12:07:01.916149Z",
          "iopub.status.idle": "2023-11-14T12:07:01.921531Z",
          "shell.execute_reply.started": "2023-11-14T12:07:01.916104Z",
          "shell.execute_reply": "2023-11-14T12:07:01.92042Z"
        },
        "trusted": true
      },
      "outputs": [],
      "execution_count": null
    },
    {
      "cell_type": "markdown",
      "source": [
        "<h1> Importing the dataset </h1>"
      ],
      "metadata": {
        "id": "5SQ-TszeR5BU"
      }
    },
    {
      "cell_type": "code",
      "source": [
        "dataset = pd.read_csv('Experience-Salary.csv')\n",
        "X = dataset.iloc[:,:-1].values\n",
        "y = dataset.iloc[:,-1].values"
      ],
      "metadata": {
        "id": "uao1Z54HG6MP",
        "execution": {
          "iopub.status.busy": "2023-11-14T12:07:01.924146Z",
          "iopub.execute_input": "2023-11-14T12:07:01.924544Z",
          "iopub.status.idle": "2023-11-14T12:07:01.947938Z",
          "shell.execute_reply.started": "2023-11-14T12:07:01.924506Z",
          "shell.execute_reply": "2023-11-14T12:07:01.946846Z"
        },
        "trusted": true
      },
      "outputs": [],
      "execution_count": null
    },
    {
      "cell_type": "markdown",
      "source": [
        "<h1> Splitting the dataset to testing and training data </h1>"
      ],
      "metadata": {
        "id": "L_B-TUDzSGPA"
      }
    },
    {
      "cell_type": "code",
      "source": [
        "from sklearn.model_selection import train_test_split\n",
        "X_train, X_test, y_train, y_test = train_test_split(X, y, test_size=0.2, random_state=0)"
      ],
      "metadata": {
        "id": "DVHiiowPHgFC",
        "execution": {
          "iopub.status.busy": "2023-11-14T12:07:01.974322Z",
          "iopub.execute_input": "2023-11-14T12:07:01.974659Z",
          "iopub.status.idle": "2023-11-14T12:07:01.98735Z",
          "shell.execute_reply.started": "2023-11-14T12:07:01.974629Z",
          "shell.execute_reply": "2023-11-14T12:07:01.986329Z"
        },
        "trusted": true
      },
      "outputs": [],
      "execution_count": null
    },
    {
      "cell_type": "markdown",
      "source": [
        "<h1> Training the data </h1>"
      ],
      "metadata": {
        "id": "T5xXj9arSWn3"
      }
    },
    {
      "cell_type": "code",
      "source": [
        "from sklearn.linear_model import LinearRegression\n",
        "regressor = LinearRegression()\n",
        "regressor.fit(X_train, y_train)"
      ],
      "metadata": {
        "id": "cay3kU6gH_lD",
        "outputId": "a6f9c06a-86c5-4526-816e-cd2240a1cea6",
        "execution": {
          "iopub.status.busy": "2023-11-14T12:07:01.990609Z",
          "iopub.execute_input": "2023-11-14T12:07:01.991528Z",
          "iopub.status.idle": "2023-11-14T12:07:02.005885Z",
          "shell.execute_reply.started": "2023-11-14T12:07:01.991492Z",
          "shell.execute_reply": "2023-11-14T12:07:02.005012Z"
        },
        "trusted": true,
        "colab": {
          "base_uri": "https://localhost:8080/",
          "height": 80
        }
      },
      "outputs": [
        {
          "output_type": "execute_result",
          "data": {
            "text/plain": [
              "LinearRegression()"
            ],
            "text/html": [
              "<style>#sk-container-id-1 {\n",
              "  /* Definition of color scheme common for light and dark mode */\n",
              "  --sklearn-color-text: #000;\n",
              "  --sklearn-color-text-muted: #666;\n",
              "  --sklearn-color-line: gray;\n",
              "  /* Definition of color scheme for unfitted estimators */\n",
              "  --sklearn-color-unfitted-level-0: #fff5e6;\n",
              "  --sklearn-color-unfitted-level-1: #f6e4d2;\n",
              "  --sklearn-color-unfitted-level-2: #ffe0b3;\n",
              "  --sklearn-color-unfitted-level-3: chocolate;\n",
              "  /* Definition of color scheme for fitted estimators */\n",
              "  --sklearn-color-fitted-level-0: #f0f8ff;\n",
              "  --sklearn-color-fitted-level-1: #d4ebff;\n",
              "  --sklearn-color-fitted-level-2: #b3dbfd;\n",
              "  --sklearn-color-fitted-level-3: cornflowerblue;\n",
              "\n",
              "  /* Specific color for light theme */\n",
              "  --sklearn-color-text-on-default-background: var(--sg-text-color, var(--theme-code-foreground, var(--jp-content-font-color1, black)));\n",
              "  --sklearn-color-background: var(--sg-background-color, var(--theme-background, var(--jp-layout-color0, white)));\n",
              "  --sklearn-color-border-box: var(--sg-text-color, var(--theme-code-foreground, var(--jp-content-font-color1, black)));\n",
              "  --sklearn-color-icon: #696969;\n",
              "\n",
              "  @media (prefers-color-scheme: dark) {\n",
              "    /* Redefinition of color scheme for dark theme */\n",
              "    --sklearn-color-text-on-default-background: var(--sg-text-color, var(--theme-code-foreground, var(--jp-content-font-color1, white)));\n",
              "    --sklearn-color-background: var(--sg-background-color, var(--theme-background, var(--jp-layout-color0, #111)));\n",
              "    --sklearn-color-border-box: var(--sg-text-color, var(--theme-code-foreground, var(--jp-content-font-color1, white)));\n",
              "    --sklearn-color-icon: #878787;\n",
              "  }\n",
              "}\n",
              "\n",
              "#sk-container-id-1 {\n",
              "  color: var(--sklearn-color-text);\n",
              "}\n",
              "\n",
              "#sk-container-id-1 pre {\n",
              "  padding: 0;\n",
              "}\n",
              "\n",
              "#sk-container-id-1 input.sk-hidden--visually {\n",
              "  border: 0;\n",
              "  clip: rect(1px 1px 1px 1px);\n",
              "  clip: rect(1px, 1px, 1px, 1px);\n",
              "  height: 1px;\n",
              "  margin: -1px;\n",
              "  overflow: hidden;\n",
              "  padding: 0;\n",
              "  position: absolute;\n",
              "  width: 1px;\n",
              "}\n",
              "\n",
              "#sk-container-id-1 div.sk-dashed-wrapped {\n",
              "  border: 1px dashed var(--sklearn-color-line);\n",
              "  margin: 0 0.4em 0.5em 0.4em;\n",
              "  box-sizing: border-box;\n",
              "  padding-bottom: 0.4em;\n",
              "  background-color: var(--sklearn-color-background);\n",
              "}\n",
              "\n",
              "#sk-container-id-1 div.sk-container {\n",
              "  /* jupyter's `normalize.less` sets `[hidden] { display: none; }`\n",
              "     but bootstrap.min.css set `[hidden] { display: none !important; }`\n",
              "     so we also need the `!important` here to be able to override the\n",
              "     default hidden behavior on the sphinx rendered scikit-learn.org.\n",
              "     See: https://github.com/scikit-learn/scikit-learn/issues/21755 */\n",
              "  display: inline-block !important;\n",
              "  position: relative;\n",
              "}\n",
              "\n",
              "#sk-container-id-1 div.sk-text-repr-fallback {\n",
              "  display: none;\n",
              "}\n",
              "\n",
              "div.sk-parallel-item,\n",
              "div.sk-serial,\n",
              "div.sk-item {\n",
              "  /* draw centered vertical line to link estimators */\n",
              "  background-image: linear-gradient(var(--sklearn-color-text-on-default-background), var(--sklearn-color-text-on-default-background));\n",
              "  background-size: 2px 100%;\n",
              "  background-repeat: no-repeat;\n",
              "  background-position: center center;\n",
              "}\n",
              "\n",
              "/* Parallel-specific style estimator block */\n",
              "\n",
              "#sk-container-id-1 div.sk-parallel-item::after {\n",
              "  content: \"\";\n",
              "  width: 100%;\n",
              "  border-bottom: 2px solid var(--sklearn-color-text-on-default-background);\n",
              "  flex-grow: 1;\n",
              "}\n",
              "\n",
              "#sk-container-id-1 div.sk-parallel {\n",
              "  display: flex;\n",
              "  align-items: stretch;\n",
              "  justify-content: center;\n",
              "  background-color: var(--sklearn-color-background);\n",
              "  position: relative;\n",
              "}\n",
              "\n",
              "#sk-container-id-1 div.sk-parallel-item {\n",
              "  display: flex;\n",
              "  flex-direction: column;\n",
              "}\n",
              "\n",
              "#sk-container-id-1 div.sk-parallel-item:first-child::after {\n",
              "  align-self: flex-end;\n",
              "  width: 50%;\n",
              "}\n",
              "\n",
              "#sk-container-id-1 div.sk-parallel-item:last-child::after {\n",
              "  align-self: flex-start;\n",
              "  width: 50%;\n",
              "}\n",
              "\n",
              "#sk-container-id-1 div.sk-parallel-item:only-child::after {\n",
              "  width: 0;\n",
              "}\n",
              "\n",
              "/* Serial-specific style estimator block */\n",
              "\n",
              "#sk-container-id-1 div.sk-serial {\n",
              "  display: flex;\n",
              "  flex-direction: column;\n",
              "  align-items: center;\n",
              "  background-color: var(--sklearn-color-background);\n",
              "  padding-right: 1em;\n",
              "  padding-left: 1em;\n",
              "}\n",
              "\n",
              "\n",
              "/* Toggleable style: style used for estimator/Pipeline/ColumnTransformer box that is\n",
              "clickable and can be expanded/collapsed.\n",
              "- Pipeline and ColumnTransformer use this feature and define the default style\n",
              "- Estimators will overwrite some part of the style using the `sk-estimator` class\n",
              "*/\n",
              "\n",
              "/* Pipeline and ColumnTransformer style (default) */\n",
              "\n",
              "#sk-container-id-1 div.sk-toggleable {\n",
              "  /* Default theme specific background. It is overwritten whether we have a\n",
              "  specific estimator or a Pipeline/ColumnTransformer */\n",
              "  background-color: var(--sklearn-color-background);\n",
              "}\n",
              "\n",
              "/* Toggleable label */\n",
              "#sk-container-id-1 label.sk-toggleable__label {\n",
              "  cursor: pointer;\n",
              "  display: flex;\n",
              "  width: 100%;\n",
              "  margin-bottom: 0;\n",
              "  padding: 0.5em;\n",
              "  box-sizing: border-box;\n",
              "  text-align: center;\n",
              "  align-items: start;\n",
              "  justify-content: space-between;\n",
              "  gap: 0.5em;\n",
              "}\n",
              "\n",
              "#sk-container-id-1 label.sk-toggleable__label .caption {\n",
              "  font-size: 0.6rem;\n",
              "  font-weight: lighter;\n",
              "  color: var(--sklearn-color-text-muted);\n",
              "}\n",
              "\n",
              "#sk-container-id-1 label.sk-toggleable__label-arrow:before {\n",
              "  /* Arrow on the left of the label */\n",
              "  content: \"▸\";\n",
              "  float: left;\n",
              "  margin-right: 0.25em;\n",
              "  color: var(--sklearn-color-icon);\n",
              "}\n",
              "\n",
              "#sk-container-id-1 label.sk-toggleable__label-arrow:hover:before {\n",
              "  color: var(--sklearn-color-text);\n",
              "}\n",
              "\n",
              "/* Toggleable content - dropdown */\n",
              "\n",
              "#sk-container-id-1 div.sk-toggleable__content {\n",
              "  max-height: 0;\n",
              "  max-width: 0;\n",
              "  overflow: hidden;\n",
              "  text-align: left;\n",
              "  /* unfitted */\n",
              "  background-color: var(--sklearn-color-unfitted-level-0);\n",
              "}\n",
              "\n",
              "#sk-container-id-1 div.sk-toggleable__content.fitted {\n",
              "  /* fitted */\n",
              "  background-color: var(--sklearn-color-fitted-level-0);\n",
              "}\n",
              "\n",
              "#sk-container-id-1 div.sk-toggleable__content pre {\n",
              "  margin: 0.2em;\n",
              "  border-radius: 0.25em;\n",
              "  color: var(--sklearn-color-text);\n",
              "  /* unfitted */\n",
              "  background-color: var(--sklearn-color-unfitted-level-0);\n",
              "}\n",
              "\n",
              "#sk-container-id-1 div.sk-toggleable__content.fitted pre {\n",
              "  /* unfitted */\n",
              "  background-color: var(--sklearn-color-fitted-level-0);\n",
              "}\n",
              "\n",
              "#sk-container-id-1 input.sk-toggleable__control:checked~div.sk-toggleable__content {\n",
              "  /* Expand drop-down */\n",
              "  max-height: 200px;\n",
              "  max-width: 100%;\n",
              "  overflow: auto;\n",
              "}\n",
              "\n",
              "#sk-container-id-1 input.sk-toggleable__control:checked~label.sk-toggleable__label-arrow:before {\n",
              "  content: \"▾\";\n",
              "}\n",
              "\n",
              "/* Pipeline/ColumnTransformer-specific style */\n",
              "\n",
              "#sk-container-id-1 div.sk-label input.sk-toggleable__control:checked~label.sk-toggleable__label {\n",
              "  color: var(--sklearn-color-text);\n",
              "  background-color: var(--sklearn-color-unfitted-level-2);\n",
              "}\n",
              "\n",
              "#sk-container-id-1 div.sk-label.fitted input.sk-toggleable__control:checked~label.sk-toggleable__label {\n",
              "  background-color: var(--sklearn-color-fitted-level-2);\n",
              "}\n",
              "\n",
              "/* Estimator-specific style */\n",
              "\n",
              "/* Colorize estimator box */\n",
              "#sk-container-id-1 div.sk-estimator input.sk-toggleable__control:checked~label.sk-toggleable__label {\n",
              "  /* unfitted */\n",
              "  background-color: var(--sklearn-color-unfitted-level-2);\n",
              "}\n",
              "\n",
              "#sk-container-id-1 div.sk-estimator.fitted input.sk-toggleable__control:checked~label.sk-toggleable__label {\n",
              "  /* fitted */\n",
              "  background-color: var(--sklearn-color-fitted-level-2);\n",
              "}\n",
              "\n",
              "#sk-container-id-1 div.sk-label label.sk-toggleable__label,\n",
              "#sk-container-id-1 div.sk-label label {\n",
              "  /* The background is the default theme color */\n",
              "  color: var(--sklearn-color-text-on-default-background);\n",
              "}\n",
              "\n",
              "/* On hover, darken the color of the background */\n",
              "#sk-container-id-1 div.sk-label:hover label.sk-toggleable__label {\n",
              "  color: var(--sklearn-color-text);\n",
              "  background-color: var(--sklearn-color-unfitted-level-2);\n",
              "}\n",
              "\n",
              "/* Label box, darken color on hover, fitted */\n",
              "#sk-container-id-1 div.sk-label.fitted:hover label.sk-toggleable__label.fitted {\n",
              "  color: var(--sklearn-color-text);\n",
              "  background-color: var(--sklearn-color-fitted-level-2);\n",
              "}\n",
              "\n",
              "/* Estimator label */\n",
              "\n",
              "#sk-container-id-1 div.sk-label label {\n",
              "  font-family: monospace;\n",
              "  font-weight: bold;\n",
              "  display: inline-block;\n",
              "  line-height: 1.2em;\n",
              "}\n",
              "\n",
              "#sk-container-id-1 div.sk-label-container {\n",
              "  text-align: center;\n",
              "}\n",
              "\n",
              "/* Estimator-specific */\n",
              "#sk-container-id-1 div.sk-estimator {\n",
              "  font-family: monospace;\n",
              "  border: 1px dotted var(--sklearn-color-border-box);\n",
              "  border-radius: 0.25em;\n",
              "  box-sizing: border-box;\n",
              "  margin-bottom: 0.5em;\n",
              "  /* unfitted */\n",
              "  background-color: var(--sklearn-color-unfitted-level-0);\n",
              "}\n",
              "\n",
              "#sk-container-id-1 div.sk-estimator.fitted {\n",
              "  /* fitted */\n",
              "  background-color: var(--sklearn-color-fitted-level-0);\n",
              "}\n",
              "\n",
              "/* on hover */\n",
              "#sk-container-id-1 div.sk-estimator:hover {\n",
              "  /* unfitted */\n",
              "  background-color: var(--sklearn-color-unfitted-level-2);\n",
              "}\n",
              "\n",
              "#sk-container-id-1 div.sk-estimator.fitted:hover {\n",
              "  /* fitted */\n",
              "  background-color: var(--sklearn-color-fitted-level-2);\n",
              "}\n",
              "\n",
              "/* Specification for estimator info (e.g. \"i\" and \"?\") */\n",
              "\n",
              "/* Common style for \"i\" and \"?\" */\n",
              "\n",
              ".sk-estimator-doc-link,\n",
              "a:link.sk-estimator-doc-link,\n",
              "a:visited.sk-estimator-doc-link {\n",
              "  float: right;\n",
              "  font-size: smaller;\n",
              "  line-height: 1em;\n",
              "  font-family: monospace;\n",
              "  background-color: var(--sklearn-color-background);\n",
              "  border-radius: 1em;\n",
              "  height: 1em;\n",
              "  width: 1em;\n",
              "  text-decoration: none !important;\n",
              "  margin-left: 0.5em;\n",
              "  text-align: center;\n",
              "  /* unfitted */\n",
              "  border: var(--sklearn-color-unfitted-level-1) 1pt solid;\n",
              "  color: var(--sklearn-color-unfitted-level-1);\n",
              "}\n",
              "\n",
              ".sk-estimator-doc-link.fitted,\n",
              "a:link.sk-estimator-doc-link.fitted,\n",
              "a:visited.sk-estimator-doc-link.fitted {\n",
              "  /* fitted */\n",
              "  border: var(--sklearn-color-fitted-level-1) 1pt solid;\n",
              "  color: var(--sklearn-color-fitted-level-1);\n",
              "}\n",
              "\n",
              "/* On hover */\n",
              "div.sk-estimator:hover .sk-estimator-doc-link:hover,\n",
              ".sk-estimator-doc-link:hover,\n",
              "div.sk-label-container:hover .sk-estimator-doc-link:hover,\n",
              ".sk-estimator-doc-link:hover {\n",
              "  /* unfitted */\n",
              "  background-color: var(--sklearn-color-unfitted-level-3);\n",
              "  color: var(--sklearn-color-background);\n",
              "  text-decoration: none;\n",
              "}\n",
              "\n",
              "div.sk-estimator.fitted:hover .sk-estimator-doc-link.fitted:hover,\n",
              ".sk-estimator-doc-link.fitted:hover,\n",
              "div.sk-label-container:hover .sk-estimator-doc-link.fitted:hover,\n",
              ".sk-estimator-doc-link.fitted:hover {\n",
              "  /* fitted */\n",
              "  background-color: var(--sklearn-color-fitted-level-3);\n",
              "  color: var(--sklearn-color-background);\n",
              "  text-decoration: none;\n",
              "}\n",
              "\n",
              "/* Span, style for the box shown on hovering the info icon */\n",
              ".sk-estimator-doc-link span {\n",
              "  display: none;\n",
              "  z-index: 9999;\n",
              "  position: relative;\n",
              "  font-weight: normal;\n",
              "  right: .2ex;\n",
              "  padding: .5ex;\n",
              "  margin: .5ex;\n",
              "  width: min-content;\n",
              "  min-width: 20ex;\n",
              "  max-width: 50ex;\n",
              "  color: var(--sklearn-color-text);\n",
              "  box-shadow: 2pt 2pt 4pt #999;\n",
              "  /* unfitted */\n",
              "  background: var(--sklearn-color-unfitted-level-0);\n",
              "  border: .5pt solid var(--sklearn-color-unfitted-level-3);\n",
              "}\n",
              "\n",
              ".sk-estimator-doc-link.fitted span {\n",
              "  /* fitted */\n",
              "  background: var(--sklearn-color-fitted-level-0);\n",
              "  border: var(--sklearn-color-fitted-level-3);\n",
              "}\n",
              "\n",
              ".sk-estimator-doc-link:hover span {\n",
              "  display: block;\n",
              "}\n",
              "\n",
              "/* \"?\"-specific style due to the `<a>` HTML tag */\n",
              "\n",
              "#sk-container-id-1 a.estimator_doc_link {\n",
              "  float: right;\n",
              "  font-size: 1rem;\n",
              "  line-height: 1em;\n",
              "  font-family: monospace;\n",
              "  background-color: var(--sklearn-color-background);\n",
              "  border-radius: 1rem;\n",
              "  height: 1rem;\n",
              "  width: 1rem;\n",
              "  text-decoration: none;\n",
              "  /* unfitted */\n",
              "  color: var(--sklearn-color-unfitted-level-1);\n",
              "  border: var(--sklearn-color-unfitted-level-1) 1pt solid;\n",
              "}\n",
              "\n",
              "#sk-container-id-1 a.estimator_doc_link.fitted {\n",
              "  /* fitted */\n",
              "  border: var(--sklearn-color-fitted-level-1) 1pt solid;\n",
              "  color: var(--sklearn-color-fitted-level-1);\n",
              "}\n",
              "\n",
              "/* On hover */\n",
              "#sk-container-id-1 a.estimator_doc_link:hover {\n",
              "  /* unfitted */\n",
              "  background-color: var(--sklearn-color-unfitted-level-3);\n",
              "  color: var(--sklearn-color-background);\n",
              "  text-decoration: none;\n",
              "}\n",
              "\n",
              "#sk-container-id-1 a.estimator_doc_link.fitted:hover {\n",
              "  /* fitted */\n",
              "  background-color: var(--sklearn-color-fitted-level-3);\n",
              "}\n",
              "</style><div id=\"sk-container-id-1\" class=\"sk-top-container\"><div class=\"sk-text-repr-fallback\"><pre>LinearRegression()</pre><b>In a Jupyter environment, please rerun this cell to show the HTML representation or trust the notebook. <br />On GitHub, the HTML representation is unable to render, please try loading this page with nbviewer.org.</b></div><div class=\"sk-container\" hidden><div class=\"sk-item\"><div class=\"sk-estimator fitted sk-toggleable\"><input class=\"sk-toggleable__control sk-hidden--visually\" id=\"sk-estimator-id-1\" type=\"checkbox\" checked><label for=\"sk-estimator-id-1\" class=\"sk-toggleable__label fitted sk-toggleable__label-arrow\"><div><div>LinearRegression</div></div><div><a class=\"sk-estimator-doc-link fitted\" rel=\"noreferrer\" target=\"_blank\" href=\"https://scikit-learn.org/1.6/modules/generated/sklearn.linear_model.LinearRegression.html\">?<span>Documentation for LinearRegression</span></a><span class=\"sk-estimator-doc-link fitted\">i<span>Fitted</span></span></div></label><div class=\"sk-toggleable__content fitted\"><pre>LinearRegression()</pre></div> </div></div></div></div>"
            ]
          },
          "metadata": {},
          "execution_count": 6
        }
      ],
      "execution_count": null
    },
    {
      "cell_type": "markdown",
      "source": [
        "<h1> Predicting the Model </h1>"
      ],
      "metadata": {
        "id": "KVAryt-ISZd_"
      }
    },
    {
      "cell_type": "code",
      "source": [
        "y_pred = regressor.predict(X_test)"
      ],
      "metadata": {
        "id": "-WEPLdZpMJAm",
        "execution": {
          "iopub.status.busy": "2023-11-14T12:07:02.007047Z",
          "iopub.execute_input": "2023-11-14T12:07:02.007589Z",
          "iopub.status.idle": "2023-11-14T12:07:02.016854Z",
          "shell.execute_reply.started": "2023-11-14T12:07:02.007524Z",
          "shell.execute_reply": "2023-11-14T12:07:02.015823Z"
        },
        "trusted": true
      },
      "outputs": [],
      "execution_count": null
    },
    {
      "cell_type": "markdown",
      "source": [
        "<h1> Finding the regression equation </h1>"
      ],
      "metadata": {
        "id": "tGEoxl46RPwd"
      }
    },
    {
      "cell_type": "code",
      "source": [
        "print(regressor.coef_)\n",
        "\n",
        "print(regressor.intercept_)"
      ],
      "metadata": {
        "id": "vKWdLL_jN3gr",
        "outputId": "7b6e40f5-b699-4c60-b10e-80421b7d8b2f",
        "execution": {
          "iopub.status.busy": "2023-11-14T12:07:02.034635Z",
          "iopub.status.idle": "2023-11-14T12:07:02.035439Z",
          "shell.execute_reply.started": "2023-11-14T12:07:02.035129Z",
          "shell.execute_reply": "2023-11-14T12:07:02.035152Z"
        },
        "trusted": true,
        "colab": {
          "base_uri": "https://localhost:8080/"
        }
      },
      "outputs": [
        {
          "output_type": "stream",
          "name": "stdout",
          "text": [
            "[0.81292229]\n",
            "5.373748175176612\n"
          ]
        }
      ],
      "execution_count": null
    },
    {
      "cell_type": "markdown",
      "source": [
        "<b>salary = 5.373 + 0.812 * experience</b>"
      ],
      "metadata": {
        "id": "NvPh2APIStKX"
      }
    },
    {
      "cell_type": "code",
      "source": [
        "regressor.predict([[16.133802149279816]])"
      ],
      "metadata": {
        "id": "PH8GVkHNN7G3",
        "outputId": "9af5c82f-cdbe-4bb0-e8a9-f64750d83e78",
        "execution": {
          "iopub.status.busy": "2023-11-14T12:07:02.036907Z",
          "iopub.status.idle": "2023-11-14T12:07:02.037387Z",
          "shell.execute_reply.started": "2023-11-14T12:07:02.037144Z",
          "shell.execute_reply": "2023-11-14T12:07:02.037165Z"
        },
        "trusted": true,
        "colab": {
          "base_uri": "https://localhost:8080/"
        }
      },
      "outputs": [
        {
          "output_type": "execute_result",
          "data": {
            "text/plain": [
              "array([18.48927556])"
            ]
          },
          "metadata": {},
          "execution_count": 9
        }
      ],
      "execution_count": null
    },
    {
      "cell_type": "markdown",
      "source": [
        "<h1> Comparing the actual and predict results </h1>"
      ],
      "metadata": {
        "id": "_ZCRpIxOS16N"
      }
    },
    {
      "cell_type": "code",
      "source": [
        "print(np.concatenate((y_pred.reshape(len(y_pred),1),y_test.reshape(len(y_test),1)),1))"
      ],
      "metadata": {
        "id": "2XywtOzdORbO",
        "outputId": "57af5815-5a88-42a1-fe98-6f67d16046c0",
        "execution": {
          "iopub.status.busy": "2023-11-14T12:07:02.038976Z",
          "iopub.status.idle": "2023-11-14T12:07:02.039422Z",
          "shell.execute_reply.started": "2023-11-14T12:07:02.039193Z",
          "shell.execute_reply": "2023-11-14T12:07:02.03923Z"
        },
        "trusted": true,
        "colab": {
          "base_uri": "https://localhost:8080/"
        }
      },
      "outputs": [
        {
          "output_type": "stream",
          "name": "stdout",
          "text": [
            "[[19.66863399 12.40492474]\n",
            " [45.08678533 42.64192391]\n",
            " [35.09556678 32.61398476]\n",
            " [41.44573867 42.59853103]\n",
            " [33.15289438 34.51967013]\n",
            " [24.12144349 20.07100557]\n",
            " [21.29591289 15.42500761]\n",
            " [10.46870976 15.75188292]\n",
            " [40.50939007 47.00755905]\n",
            " [42.35826405 45.43034605]\n",
            " [19.16657657 20.98173978]\n",
            " [26.00329849 31.43418335]\n",
            " [22.58129684 21.04480318]\n",
            " [19.2972577  24.21424076]\n",
            " [21.57399671 18.64392856]\n",
            " [25.95065996 30.08146509]\n",
            " [17.07487093  6.44303315]\n",
            " [31.3434879  28.8261755 ]\n",
            " [26.31564914 28.11647711]\n",
            " [22.11001181 22.61337303]\n",
            " [20.27144837 29.33940107]\n",
            " [15.18674028 17.55327932]\n",
            " [36.65106869 33.87292023]\n",
            " [21.65136797 12.01288324]\n",
            " [18.85699941 25.68208498]\n",
            " [23.5741666  20.48315261]\n",
            " [21.25128573 21.84910721]\n",
            " [19.81686519 17.48140272]\n",
            " [18.49274792 23.32113865]\n",
            " [19.21245492 11.66623372]\n",
            " [24.49091836 31.16082851]\n",
            " [19.23170352 22.84036157]\n",
            " [30.79789779 27.85873513]\n",
            " [15.41236172 14.01861564]\n",
            " [23.24819625 16.93933319]\n",
            " [18.65734084 19.37507009]\n",
            " [18.31147241 16.59208775]\n",
            " [25.31848616 28.26423895]\n",
            " [24.6406015  24.26614903]\n",
            " [26.47563134 26.53926104]\n",
            " [31.11773559 38.59414111]\n",
            " [31.60390297 24.16027022]\n",
            " [28.99809305 27.56872491]\n",
            " [10.50578596 10.83620617]\n",
            " [25.78821205 29.93584804]\n",
            " [23.68142045 14.71349698]\n",
            " [22.02798674 22.95391772]\n",
            " [30.91711705 38.54010299]\n",
            " [33.08595434 39.34635294]\n",
            " [26.17864447 28.21701529]\n",
            " [22.87081236 22.9835834 ]\n",
            " [36.30538907 35.03796502]\n",
            " [20.84080714 23.38897944]\n",
            " [29.35040008 34.29315874]\n",
            " [32.11744359 27.72423242]\n",
            " [17.50080895 15.82978428]\n",
            " [21.46432741 15.30663794]\n",
            " [20.81449961 22.99715313]\n",
            " [25.59644448 24.97493226]\n",
            " [12.72367189  9.07132609]\n",
            " [18.92609074 14.90656178]\n",
            " [29.68785329 33.50613023]\n",
            " [26.57001426 26.5491017 ]\n",
            " [24.42351469 32.73699831]\n",
            " [33.88428266 42.97365266]\n",
            " [45.24359517 44.90744187]\n",
            " [19.37369379 23.45044385]\n",
            " [16.61669506 24.06341742]\n",
            " [19.58502282 17.97227987]\n",
            " [18.1929857  21.29566058]\n",
            " [21.58530664 24.94779162]\n",
            " [16.80148622 19.35251598]\n",
            " [41.96495828 43.35587823]\n",
            " [28.65634364 28.971555  ]\n",
            " [40.9523128  48.95411437]\n",
            " [25.96880309 25.89685226]\n",
            " [37.01722964 35.22051108]\n",
            " [27.70317398 30.77112985]\n",
            " [26.21247642 15.13679828]\n",
            " [32.50807779 27.25647635]\n",
            " [34.86597939 37.79290154]\n",
            " [36.53271293 36.02530727]\n",
            " [21.70238456 14.26218598]\n",
            " [36.52525846 35.24023173]\n",
            " [25.08737827 25.73958722]\n",
            " [32.1174549  32.46671287]\n",
            " [32.1301342  28.09615538]\n",
            " [34.2934659  32.96955128]\n",
            " [22.15345616 18.44810565]\n",
            " [41.96196914 49.16334006]\n",
            " [45.58350352 44.84956608]\n",
            " [24.30926918 24.33947629]\n",
            " [26.59902299 25.49107781]\n",
            " [19.01579985 15.48125325]\n",
            " [31.73331102 28.24347836]\n",
            " [28.65303916 30.0018779 ]\n",
            " [21.57887207 26.44347021]\n",
            " [ 7.93733605  2.85636733]\n",
            " [35.9991865  34.25333404]\n",
            " [20.25704874 18.17032186]\n",
            " [24.37741212 30.75313217]\n",
            " [27.54025679 29.03967765]\n",
            " [15.46069668 15.93890415]\n",
            " [27.7376878  29.9232022 ]\n",
            " [25.7550368  21.05874926]\n",
            " [28.93659245 31.43700317]\n",
            " [35.79068104 39.20967656]\n",
            " [31.70333875 28.06998871]\n",
            " [17.06327691 21.61587364]\n",
            " [20.67902948 23.4481051 ]\n",
            " [27.19845735 28.34933112]\n",
            " [31.24659234 21.61444841]\n",
            " [35.9751123  41.58884595]\n",
            " [22.82837014 20.54438432]\n",
            " [15.50225272 15.80465325]\n",
            " [25.01133238 30.91733134]\n",
            " [28.13939076 37.30238922]\n",
            " [20.26429254 25.10900501]\n",
            " [25.34055002 25.7030518 ]\n",
            " [24.91353942 27.07187885]\n",
            " [32.79311079 41.82606463]\n",
            " [16.52842232 11.90238054]\n",
            " [26.42195371 29.45001095]\n",
            " [21.94304275 15.73696895]\n",
            " [19.24227314 12.94952236]\n",
            " [34.50301248 40.66969269]\n",
            " [34.6570122  31.0780017 ]\n",
            " [31.27896315 19.24723406]\n",
            " [38.71996813 49.34624402]\n",
            " [39.88888323 33.70242688]\n",
            " [37.90119644 37.96474236]\n",
            " [24.09851423 16.93669481]\n",
            " [38.36403531 37.03318253]\n",
            " [15.55860041 11.8434969 ]\n",
            " [23.18098126 25.81451787]\n",
            " [23.65779239 32.04948062]\n",
            " [30.84775179 29.3303507 ]\n",
            " [32.0711952  32.0326529 ]\n",
            " [33.4878751  37.71840772]\n",
            " [28.45498893 15.1826183 ]\n",
            " [14.5791421  13.95659036]\n",
            " [17.89340573 17.42515289]\n",
            " [24.89641644 37.13757278]\n",
            " [17.26319975 15.93625142]\n",
            " [34.11483487 40.75359994]\n",
            " [21.82707335 27.54103761]\n",
            " [25.53275819 32.67203505]\n",
            " [35.66450595 29.7569674 ]\n",
            " [28.64831565 32.67293143]\n",
            " [33.77704151 33.34363003]\n",
            " [23.95261758 18.64141066]\n",
            " [31.15837086 33.22816701]\n",
            " [25.76546196 25.75858423]\n",
            " [20.40650879 20.84821056]\n",
            " [15.17869748 16.43870653]\n",
            " [22.18050643 27.88974275]\n",
            " [37.21338249 41.51070946]\n",
            " [28.86485253 27.61621185]\n",
            " [39.60070827 42.17061508]\n",
            " [36.71281354 38.55925566]\n",
            " [26.0720753  23.83493708]\n",
            " [25.65871045 33.5689438 ]\n",
            " [30.61610393 26.98913803]\n",
            " [19.30122029 12.84258482]\n",
            " [21.94948922 22.21550276]\n",
            " [22.99371656 24.46596152]\n",
            " [30.20057659 24.64875015]\n",
            " [23.23283324 23.59978069]\n",
            " [23.48056003 23.51981464]\n",
            " [30.53913865 38.01857642]\n",
            " [31.92849287 40.96905743]\n",
            " [24.74854405 25.52443215]\n",
            " [24.46120799 24.80316178]\n",
            " [26.58122107 24.59088063]\n",
            " [ 9.36379645 19.93184772]\n",
            " [31.32010885 27.6394564 ]\n",
            " [15.21653392 14.83384687]\n",
            " [20.78539369 21.35857614]\n",
            " [25.70169952 21.7088948 ]\n",
            " [27.50112932 26.79204699]\n",
            " [25.07245023 29.17604446]\n",
            " [18.72032878 19.63478749]\n",
            " [26.93684313 30.74631774]\n",
            " [27.43835015 29.6473974 ]\n",
            " [42.54429092 46.60593754]\n",
            " [19.58047372 11.18935438]\n",
            " [17.25393072 15.76497148]\n",
            " [21.7167896  26.92190064]\n",
            " [10.02703935  9.81222598]\n",
            " [39.97797286 35.89707628]\n",
            " [17.84441187 15.26151594]\n",
            " [44.75737463 43.57827715]\n",
            " [28.03242315 27.32308772]\n",
            " [31.11994927 32.96625076]\n",
            " [22.78290855 19.41545757]\n",
            " [34.99500787 31.14786614]\n",
            " [34.12995808 35.9245248 ]\n",
            " [35.52357821 40.37845605]\n",
            " [31.8010343  37.67801649]\n",
            " [30.74903608 35.97997953]]\n"
          ]
        }
      ],
      "execution_count": null
    },
    {
      "cell_type": "markdown",
      "source": [
        "<h1> Calculating Mean Absolute Error </h1>"
      ],
      "metadata": {
        "id": "jEQDVCDZS78E"
      }
    },
    {
      "cell_type": "code",
      "source": [
        "from sklearn.metrics import mean_absolute_error\n",
        "mean_absolute_error(y_test,y_pred)"
      ],
      "metadata": {
        "id": "ifxJBQT1RV5T",
        "outputId": "23564287-2af8-47dc-ef78-3598bc747e41",
        "execution": {
          "iopub.status.busy": "2023-11-14T12:07:02.127733Z",
          "iopub.execute_input": "2023-11-14T12:07:02.128486Z",
          "iopub.status.idle": "2023-11-14T12:07:02.136792Z",
          "shell.execute_reply.started": "2023-11-14T12:07:02.128447Z",
          "shell.execute_reply": "2023-11-14T12:07:02.135638Z"
        },
        "trusted": true,
        "colab": {
          "base_uri": "https://localhost:8080/"
        }
      },
      "outputs": [
        {
          "output_type": "execute_result",
          "data": {
            "text/plain": [
              "3.720236310827896"
            ]
          },
          "metadata": {},
          "execution_count": 11
        }
      ],
      "execution_count": null
    },
    {
      "cell_type": "markdown",
      "source": [
        "<h1> Calculating Mean Squared Error </h1>"
      ],
      "metadata": {
        "id": "GiZB9ChdTCeS"
      }
    },
    {
      "cell_type": "code",
      "source": [
        "from sklearn.metrics import mean_squared_error\n",
        "mean_squared_error(y_test,y_pred)"
      ],
      "metadata": {
        "id": "fN9tf2CHRZt-",
        "outputId": "a41e6ccc-18b4-49b4-e31c-4b55a95c31f4",
        "execution": {
          "iopub.status.busy": "2023-11-14T12:07:02.138703Z",
          "iopub.execute_input": "2023-11-14T12:07:02.139259Z",
          "iopub.status.idle": "2023-11-14T12:07:02.156193Z",
          "shell.execute_reply.started": "2023-11-14T12:07:02.139202Z",
          "shell.execute_reply": "2023-11-14T12:07:02.154995Z"
        },
        "trusted": true,
        "colab": {
          "base_uri": "https://localhost:8080/"
        }
      },
      "outputs": [
        {
          "output_type": "execute_result",
          "data": {
            "text/plain": [
              "22.40335262384573"
            ]
          },
          "metadata": {},
          "execution_count": 12
        }
      ],
      "execution_count": null
    },
    {
      "cell_type": "code",
      "source": [
        "mse=mean_squared_error(y_test,y_pred)\n",
        "\n",
        "np.sqrt(mse)"
      ],
      "metadata": {
        "id": "aw5ruBIvReCy",
        "outputId": "766d59d1-c181-42c7-aa67-2bb178b4c709",
        "execution": {
          "iopub.status.busy": "2023-11-14T12:07:02.15772Z",
          "iopub.execute_input": "2023-11-14T12:07:02.1581Z",
          "iopub.status.idle": "2023-11-14T12:07:02.170291Z",
          "shell.execute_reply.started": "2023-11-14T12:07:02.158058Z",
          "shell.execute_reply": "2023-11-14T12:07:02.169268Z"
        },
        "trusted": true,
        "colab": {
          "base_uri": "https://localhost:8080/"
        }
      },
      "outputs": [
        {
          "output_type": "execute_result",
          "data": {
            "text/plain": [
              "4.73321799876635"
            ]
          },
          "metadata": {},
          "execution_count": 13
        }
      ],
      "execution_count": null
    },
    {
      "cell_type": "markdown",
      "source": [
        "<h1> Calculating R2 score </h1>"
      ],
      "metadata": {
        "id": "CZ1u4zrETGtX"
      }
    },
    {
      "cell_type": "code",
      "source": [
        "from sklearn.metrics import r2_score\n",
        "r2_score(y_test,y_pred)"
      ],
      "metadata": {
        "id": "xlXdsXY6Rg8-",
        "outputId": "7340f57a-f112-4263-a636-087db134ba7c",
        "execution": {
          "iopub.status.busy": "2023-11-14T12:07:02.171646Z",
          "iopub.execute_input": "2023-11-14T12:07:02.172506Z",
          "iopub.status.idle": "2023-11-14T12:07:02.187752Z",
          "shell.execute_reply.started": "2023-11-14T12:07:02.172469Z",
          "shell.execute_reply": "2023-11-14T12:07:02.186488Z"
        },
        "trusted": true,
        "colab": {
          "base_uri": "https://localhost:8080/"
        }
      },
      "outputs": [
        {
          "output_type": "execute_result",
          "data": {
            "text/plain": [
              "0.746188470890027"
            ]
          },
          "metadata": {},
          "execution_count": 14
        }
      ],
      "execution_count": null
    },
    {
      "cell_type": "markdown",
      "source": [
        "<h1> Plotting the train set results </h1>"
      ],
      "metadata": {
        "id": "xcGKUb2aSf2A"
      }
    },
    {
      "cell_type": "code",
      "source": [
        "plt.scatter(X_train, y_train, color='red')\n",
        "plt.plot(X_train, regressor.predict(X_train), color='blue')\n",
        "plt.title('Salary vs Experience (training set)')\n",
        "plt.xlabel('Years of experience')\n",
        "plt.ylabel('Salary')\n",
        "plt.show()"
      ],
      "metadata": {
        "id": "0AmplLAeMjJY",
        "outputId": "d12d7b6c-1cb0-42cb-ec82-406cda63b01a",
        "execution": {
          "iopub.status.busy": "2023-11-14T12:07:02.191262Z",
          "iopub.execute_input": "2023-11-14T12:07:02.191742Z",
          "iopub.status.idle": "2023-11-14T12:07:02.499329Z",
          "shell.execute_reply.started": "2023-11-14T12:07:02.191699Z",
          "shell.execute_reply": "2023-11-14T12:07:02.498029Z"
        },
        "trusted": true,
        "colab": {
          "base_uri": "https://localhost:8080/",
          "height": 472
        }
      },
      "outputs": [
        {
          "output_type": "display_data",
          "data": {
            "text/plain": [
              "<Figure size 640x480 with 1 Axes>"
            ],
            "image/png": "[encoded data removed]"
          },
          "metadata": {}
        }
      ],
      "execution_count": null
    },
    {
      "cell_type": "markdown",
      "source": [
        "<h1> Plotting the test set results </h1>"
      ],
      "metadata": {
        "id": "t9rn8GvkSjzg"
      }
    },
    {
      "cell_type": "code",
      "source": [
        "plt.scatter(X_test, y_test, color='red')\n",
        "plt.plot(X_train, regressor.predict(X_train), color='blue')\n",
        "plt.title('Salary vs Experience (training set)')\n",
        "plt.xlabel('Years of experience')\n",
        "plt.ylabel('Salary')\n",
        "plt.show()"
      ],
      "metadata": {
        "id": "S2Ghn4uKNccy",
        "outputId": "d6ffd446-90e6-4c5e-cccd-d9e96d9c657a",
        "execution": {
          "iopub.status.busy": "2023-11-14T12:07:02.500915Z",
          "iopub.execute_input": "2023-11-14T12:07:02.501374Z",
          "iopub.status.idle": "2023-11-14T12:07:02.800949Z",
          "shell.execute_reply.started": "2023-11-14T12:07:02.501329Z",
          "shell.execute_reply": "2023-11-14T12:07:02.799608Z"
        },
        "trusted": true,
        "colab": {
          "base_uri": "https://localhost:8080/",
          "height": 472
        }
      },
      "outputs": [
        {
          "output_type": "display_data",
          "data": {
            "text/plain": [
              "<Figure size 640x480 with 1 Axes>"
            ],
            "image/png": "[encoded data removed]"
          },
          "metadata": {}
        }
      ],
      "execution_count": null
    },
    {
      "cell_type": "code",
      "source": [],
      "metadata": {
        "id": "1hNFuKnwR-oe"
      },
      "execution_count": null,
      "outputs": []
    }
  ]
}